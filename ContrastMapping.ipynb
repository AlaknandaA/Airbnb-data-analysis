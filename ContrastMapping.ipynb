{
  "nbformat": 4,
  "nbformat_minor": 0,
  "metadata": {
    "colab": {
      "name": "ContrastMapping.ipynb",
      "provenance": [],
      "mount_file_id": "1ZmtMDsV-ZkpOsI-tfv_xbXaEc4x6kCdg",
      "authorship_tag": "ABX9TyPDUTTF7rSALXkGs+4WZTIg",
      "include_colab_link": true
    },
    "kernelspec": {
      "name": "python3",
      "display_name": "Python 3"
    },
    "language_info": {
      "name": "python"
    }
  },
  "cells": [
    {
      "cell_type": "markdown",
      "metadata": {
        "id": "view-in-github",
        "colab_type": "text"
      },
      "source": [
        "<a href=\"https://colab.research.google.com/github/AlaknandaA/Airbnb-data-analysis-visualization/blob/gh-pages/ContrastMapping.ipynb\" target=\"_parent\"><img src=\"https://colab.research.google.com/assets/colab-badge.svg\" alt=\"Open In Colab\"/></a>"
      ]
    },
    {
      "cell_type": "code",
      "metadata": {
        "id": "y98t1blScLlf"
      },
      "source": [
        "# Mounting google drive\n",
        "\n",
        "from google.colab import auth\n",
        "auth.authenticate_user()\n",
        "import gspread\n",
        "from oauth2client.client import GoogleCredentials\n",
        "gc = gspread.authorize(GoogleCredentials.get_application_default())"
      ],
      "execution_count": 35,
      "outputs": []
    },
    {
      "cell_type": "code",
      "metadata": {
        "id": "U77lRQRWbolI"
      },
      "source": [
        "import pandas as pd\n",
        "import matplotlib.pyplot as plt\n",
        "import seaborn as sns\n",
        "import numpy as np\n",
        "\n",
        "pd.set_option('display.max_columns', None)\n",
        "# pd.set_option('display.max_colwidth', None)\n",
        "pd.set_option('display.max_rows', None)"
      ],
      "execution_count": 36,
      "outputs": []
    },
    {
      "cell_type": "code",
      "metadata": {
        "id": "ffiKvWHrb4um"
      },
      "source": [
        "# Importing data from drive\n",
        "\n",
        "FlavorMapping = gc.open_by_url('https://docs.google.com/spreadsheets/d/1xOCY7QyvyQsM7hoMZwOXY6Hni75KcNDCagWwda9RVBw/edit?usp=sharing')"
      ],
      "execution_count": 37,
      "outputs": []
    },
    {
      "cell_type": "code",
      "metadata": {
        "id": "7XUb0pxYbS3-"
      },
      "source": [
        "# Reading data from the google sheet\n",
        "\n",
        "sheet1 = FlavorMapping.worksheet('Contrast Flavour Mapping')\n",
        "sheet1 = sheet1.get_all_values()"
      ],
      "execution_count": 38,
      "outputs": []
    },
    {
      "cell_type": "code",
      "metadata": {
        "id": "aFaMhyU2bSzQ"
      },
      "source": [
        "# Converting google sheet data into dataframe and setting column and row indexes\n",
        "FlavorMapping = pd.DataFrame(sheet1)"
      ],
      "execution_count": 39,
      "outputs": []
    },
    {
      "cell_type": "code",
      "metadata": {
        "id": "Qojs1XYFDIg6"
      },
      "source": [
        "# Converting all values to lower case, stripping spaces and joining the taste_tag with taste_score, replacing the string 'na' with nulls\n",
        "FlavorMapping = FlavorMapping.applymap(lambda x: x.lower() if type(x) is str else x)\n",
        "FlavorMapping = FlavorMapping.applymap(lambda x: x.strip() if type(x) is str else x)\n",
        "FlavorMapping = FlavorMapping.applymap(lambda x: ''.join(x.split()) if type(x) is str else x)\n",
        "FlavorMapping.replace({'na':np.nan, 'crisp':'sour2','acidic':'sour4','vinegary':'sour5','meaty':'umami4','gamey':'umami5'}, inplace=True)"
      ],
      "execution_count": 40,
      "outputs": []
    },
    {
      "cell_type": "code",
      "metadata": {
        "id": "NmvxPcQHbStz"
      },
      "source": [
        "# Keeping only the rows that have values and excluding all blanks\n",
        "FlavorMapping = FlavorMapping.iloc[4:, :].copy()\n",
        "\n",
        "# Setting the first and second columns of dataframe as indexes to make a multiindex dataframe\n",
        "FlavorMapping.set_index(FlavorMapping.columns[[0,1]].tolist(), inplace=True)\n",
        "\n",
        "# Setting names of the indexes in multiindex\n",
        "FlavorMapping.index.set_names(['sourcegroup','source'], inplace=True)"
      ],
      "execution_count": 41,
      "outputs": []
    },
    {
      "cell_type": "code",
      "metadata": {
        "id": "tIXfjGKLbSpW"
      },
      "source": [
        "# Getting names of all source flavours\n",
        "indexes = FlavorMapping.index.get_level_values(1)\n",
        "\n",
        "# Creating a new header variable with cartesian mix that I want in my column header names\n",
        "header = pd.MultiIndex.from_product([indexes,\n",
        "                                     ['contrast','result']],\n",
        "                                    names=['target','contrast/result'])\n",
        "\n",
        "# Setting columns of dataframe to header\n",
        "FlavorMapping.columns = header"
      ],
      "execution_count": 42,
      "outputs": []
    },
    {
      "cell_type": "code",
      "metadata": {
        "id": "DjYXtX0VIxsn"
      },
      "source": [
        "# Dropping contrast column as I don't need it.\n",
        "FlavorMapping.drop('contrast', axis=1, level=1, inplace=True)\n",
        "FlavorMapping.columns = FlavorMapping.columns.droplevel('contrast/result')"
      ],
      "execution_count": 43,
      "outputs": []
    },
    {
      "cell_type": "code",
      "metadata": {
        "id": "JUChxCZ5bCSH"
      },
      "source": [
        "# Importing data from Gdrive\n",
        "\n",
        "Final1000Recipes = gc.open_by_url('https://docs.google.com/spreadsheets/d/1fkiB20JhqSwOFxpXTTpIgykasRwMw3duhFF5_rrBm60/edit?usp=sharing')"
      ],
      "execution_count": 44,
      "outputs": []
    },
    {
      "cell_type": "code",
      "metadata": {
        "id": "HdLsOAcnc9PG"
      },
      "source": [
        "# Reading data from the google sheet\n",
        "\n",
        "sheet2 = Final1000Recipes.worksheet('complexity scores test')\n",
        "sheet2 = sheet2.get_all_values()"
      ],
      "execution_count": 45,
      "outputs": []
    },
    {
      "cell_type": "code",
      "metadata": {
        "id": "Z-wlX5MPdNSI"
      },
      "source": [
        "# Converting google sheet data into dataframe and setting column and row indexes\n",
        "\n",
        "French = pd.DataFrame(sheet2)\n",
        "French.columns = French.iloc[0]\n",
        "French = French.iloc[1:]\n",
        "\n",
        "#Creating a copy of French\n",
        "Frenchcopy = French.copy()"
      ],
      "execution_count": 46,
      "outputs": []
    },
    {
      "cell_type": "code",
      "metadata": {
        "colab": {
          "base_uri": "https://localhost:8080/"
        },
        "id": "Yz-PYlAUpFlm",
        "outputId": "4a58737b-dcbc-40e3-99f8-4d288e85393c"
      },
      "source": [
        "French.set_index('dish', inplace=True)\n",
        "French.index"
      ],
      "execution_count": 47,
      "outputs": [
        {
          "output_type": "execute_result",
          "data": {
            "text/plain": [
              "Index(['Lobio Satsivi', 'Lobio Satsivi', 'Lobio Satsivi', 'Lobio Satsivi',\n",
              "       'Lobio Satsivi', 'Lobio Satsivi', 'Lobio Satsivi', 'Lobio Satsivi',\n",
              "       'Lobio Satsivi', 'Lobio Satsivi',\n",
              "       ...\n",
              "       'Banana Flower Fry', 'Banana Flower Fry', 'Banana Flower Fry',\n",
              "       'Banana Flower Fry', 'Banana Flower Fry', 'Banana Flower Fry',\n",
              "       'Banana Flower Fry', 'Banana Flower Fry', 'Banana Flower Fry',\n",
              "       'Banana Flower Fry'],\n",
              "      dtype='object', name='dish', length=25093)"
            ]
          },
          "metadata": {
            "tags": []
          },
          "execution_count": 47
        }
      ]
    },
    {
      "cell_type": "code",
      "metadata": {
        "colab": {
          "base_uri": "https://localhost:8080/",
          "height": 145
        },
        "id": "CGAz7LQqiW5N",
        "outputId": "4acdcc3d-11cb-4b00-e083-e0615842ee40"
      },
      "source": [
        "Frenchcopy.head(2)"
      ],
      "execution_count": 48,
      "outputs": [
        {
          "output_type": "execute_result",
          "data": {
            "text/html": [
              "<div>\n",
              "<style scoped>\n",
              "    .dataframe tbody tr th:only-of-type {\n",
              "        vertical-align: middle;\n",
              "    }\n",
              "\n",
              "    .dataframe tbody tr th {\n",
              "        vertical-align: top;\n",
              "    }\n",
              "\n",
              "    .dataframe thead th {\n",
              "        text-align: right;\n",
              "    }\n",
              "</style>\n",
              "<table border=\"1\" class=\"dataframe\">\n",
              "  <thead>\n",
              "    <tr style=\"text-align: right;\">\n",
              "      <th></th>\n",
              "      <th>dish</th>\n",
              "      <th>Aroma_Tag</th>\n",
              "      <th>Aroma_score</th>\n",
              "      <th>Mouthfeel_Tag</th>\n",
              "      <th>Mouthfeel_score</th>\n",
              "      <th>Taste_Tag</th>\n",
              "      <th>Taste_score</th>\n",
              "      <th>Color_Tag</th>\n",
              "      <th>Texture_Tag</th>\n",
              "    </tr>\n",
              "  </thead>\n",
              "  <tbody>\n",
              "    <tr>\n",
              "      <th>1</th>\n",
              "      <td>Lobio Satsivi</td>\n",
              "      <td>grassy</td>\n",
              "      <td>1</td>\n",
              "      <td>toothsome</td>\n",
              "      <td>1</td>\n",
              "      <td>sweet</td>\n",
              "      <td>3</td>\n",
              "      <td>{'green': {'score': 5}, 'cream': {'score': 2},...</td>\n",
              "      <td>{'meaty': {'score': 1}, 'firm': {'score': 2}, ...</td>\n",
              "    </tr>\n",
              "    <tr>\n",
              "      <th>2</th>\n",
              "      <td>Lobio Satsivi</td>\n",
              "      <td></td>\n",
              "      <td></td>\n",
              "      <td></td>\n",
              "      <td></td>\n",
              "      <td>bitter</td>\n",
              "      <td>1</td>\n",
              "      <td></td>\n",
              "      <td></td>\n",
              "    </tr>\n",
              "  </tbody>\n",
              "</table>\n",
              "</div>"
            ],
            "text/plain": [
              "0           dish Aroma_Tag Aroma_score Mouthfeel_Tag Mouthfeel_score  \\\n",
              "1  Lobio Satsivi    grassy           1     toothsome               1   \n",
              "2  Lobio Satsivi                                                       \n",
              "\n",
              "0 Taste_Tag Taste_score                                          Color_Tag  \\\n",
              "1     sweet           3  {'green': {'score': 5}, 'cream': {'score': 2},...   \n",
              "2    bitter           1                                                      \n",
              "\n",
              "0                                        Texture_Tag  \n",
              "1  {'meaty': {'score': 1}, 'firm': {'score': 2}, ...  \n",
              "2                                                     "
            ]
          },
          "metadata": {
            "tags": []
          },
          "execution_count": 48
        }
      ]
    },
    {
      "cell_type": "code",
      "metadata": {
        "id": "syjYq-bT-sFJ"
      },
      "source": [
        "# Converting all the values in Taste_Tag column to lower case\n",
        "Frenchcopy['Taste_Tag'] = Frenchcopy['Taste_Tag'].apply(lambda x: x.lower())\n",
        "Frenchcopy['Taste_Tag'] = Frenchcopy['Taste_Tag'].apply(lambda x: x.strip())"
      ],
      "execution_count": 49,
      "outputs": []
    },
    {
      "cell_type": "code",
      "metadata": {
        "id": "wu52iD5RXc28"
      },
      "source": [
        "# Removing the taste_score where taste_tag is in CrispList\n",
        "\n",
        "CrispList = ['crisp','bland/neutral','caramelized','acidic','vinegary','fatty','meaty','gamey','neutral','bland']\n",
        "Frenchcopy.loc[Frenchcopy['Taste_Tag'].isin(CrispList), 'Taste_score'] = ''"
      ],
      "execution_count": 50,
      "outputs": []
    },
    {
      "cell_type": "code",
      "metadata": {
        "id": "eVxUXhTV77sY"
      },
      "source": [
        "pd.DataFrame(Frenchcopy['Taste_Tag'].unique())"
      ],
      "execution_count": null,
      "outputs": []
    },
    {
      "cell_type": "code",
      "metadata": {
        "id": "v46UA3LGTjsy"
      },
      "source": [
        "# Replacing all bad values in French Taste_Tag column with values that are present in flavormapping sheet\n",
        "\n",
        "Frenchcopy.Taste_Tag.replace({'neutral':'bland/neutral',\n",
        "                          'bland':'bland/neutral',\n",
        "                          'crisp':'sour2',\n",
        "                          'acidic':'sour4',\n",
        "                          'vinegary':'sour5',\n",
        "                          'meaty':'umami4',\n",
        "                          'gamey':'umami5',\n",
        "                          '':np.nan},\n",
        "                          inplace=True)"
      ],
      "execution_count": 52,
      "outputs": []
    },
    {
      "cell_type": "code",
      "metadata": {
        "colab": {
          "base_uri": "https://localhost:8080/",
          "height": 145
        },
        "id": "0Vaccy4cCVO3",
        "outputId": "67c6ac84-031b-46d8-b85f-09064cf9f85f"
      },
      "source": [
        "Frenchcopy.head(2)"
      ],
      "execution_count": 53,
      "outputs": [
        {
          "output_type": "execute_result",
          "data": {
            "text/html": [
              "<div>\n",
              "<style scoped>\n",
              "    .dataframe tbody tr th:only-of-type {\n",
              "        vertical-align: middle;\n",
              "    }\n",
              "\n",
              "    .dataframe tbody tr th {\n",
              "        vertical-align: top;\n",
              "    }\n",
              "\n",
              "    .dataframe thead th {\n",
              "        text-align: right;\n",
              "    }\n",
              "</style>\n",
              "<table border=\"1\" class=\"dataframe\">\n",
              "  <thead>\n",
              "    <tr style=\"text-align: right;\">\n",
              "      <th></th>\n",
              "      <th>dish</th>\n",
              "      <th>Aroma_Tag</th>\n",
              "      <th>Aroma_score</th>\n",
              "      <th>Mouthfeel_Tag</th>\n",
              "      <th>Mouthfeel_score</th>\n",
              "      <th>Taste_Tag</th>\n",
              "      <th>Taste_score</th>\n",
              "      <th>Color_Tag</th>\n",
              "      <th>Texture_Tag</th>\n",
              "    </tr>\n",
              "  </thead>\n",
              "  <tbody>\n",
              "    <tr>\n",
              "      <th>1</th>\n",
              "      <td>Lobio Satsivi</td>\n",
              "      <td>grassy</td>\n",
              "      <td>1</td>\n",
              "      <td>toothsome</td>\n",
              "      <td>1</td>\n",
              "      <td>sweet</td>\n",
              "      <td>3</td>\n",
              "      <td>{'green': {'score': 5}, 'cream': {'score': 2},...</td>\n",
              "      <td>{'meaty': {'score': 1}, 'firm': {'score': 2}, ...</td>\n",
              "    </tr>\n",
              "    <tr>\n",
              "      <th>2</th>\n",
              "      <td>Lobio Satsivi</td>\n",
              "      <td></td>\n",
              "      <td></td>\n",
              "      <td></td>\n",
              "      <td></td>\n",
              "      <td>bitter</td>\n",
              "      <td>1</td>\n",
              "      <td></td>\n",
              "      <td></td>\n",
              "    </tr>\n",
              "  </tbody>\n",
              "</table>\n",
              "</div>"
            ],
            "text/plain": [
              "0           dish Aroma_Tag Aroma_score Mouthfeel_Tag Mouthfeel_score  \\\n",
              "1  Lobio Satsivi    grassy           1     toothsome               1   \n",
              "2  Lobio Satsivi                                                       \n",
              "\n",
              "0 Taste_Tag Taste_score                                          Color_Tag  \\\n",
              "1     sweet           3  {'green': {'score': 5}, 'cream': {'score': 2},...   \n",
              "2    bitter           1                                                      \n",
              "\n",
              "0                                        Texture_Tag  \n",
              "1  {'meaty': {'score': 1}, 'firm': {'score': 2}, ...  \n",
              "2                                                     "
            ]
          },
          "metadata": {
            "tags": []
          },
          "execution_count": 53
        }
      ]
    },
    {
      "cell_type": "code",
      "metadata": {
        "id": "kLVRIiXFotmq"
      },
      "source": [
        "# Appending Taste_Tag and Taste_score columns to get a Full_Taste_Tag column whose values can correspond with the Flavor Mapping sheet\n",
        "Frenchcopy['Full_Taste_Tag'] = Frenchcopy['Taste_Tag'] + Frenchcopy['Taste_score']\n",
        "\n",
        "# Stripping the values of new column Full_Taste_Tag again\n",
        "Frenchcopy['Full_Taste_Tag'] = Frenchcopy['Full_Taste_Tag'].apply(lambda x: x.strip() if isinstance(x, str) else x)"
      ],
      "execution_count": 54,
      "outputs": []
    },
    {
      "cell_type": "code",
      "metadata": {
        "colab": {
          "base_uri": "https://localhost:8080/",
          "height": 173
        },
        "id": "4tjCZYizl5G8",
        "outputId": "55f02904-6baf-4d0e-e155-436861f18562"
      },
      "source": [
        "# Grouping French df based on dish\n",
        "French2 = Frenchcopy.groupby(['dish'])\n",
        "\n",
        "# Getting all the taste_tags of a particular dish in one list and creating a new dataframe with dish names and list of taste tags\n",
        "French3 = pd.DataFrame(French2.apply(lambda x: x['Full_Taste_Tag'].unique()))\n",
        "\n",
        "# Renaming the column name from 0 to DishFlavorTags\n",
        "French3.rename(columns={0:'DishFlavorTags'}, inplace=True)\n",
        "\n",
        "French3.head(3)"
      ],
      "execution_count": 55,
      "outputs": [
        {
          "output_type": "execute_result",
          "data": {
            "text/html": [
              "<div>\n",
              "<style scoped>\n",
              "    .dataframe tbody tr th:only-of-type {\n",
              "        vertical-align: middle;\n",
              "    }\n",
              "\n",
              "    .dataframe tbody tr th {\n",
              "        vertical-align: top;\n",
              "    }\n",
              "\n",
              "    .dataframe thead th {\n",
              "        text-align: right;\n",
              "    }\n",
              "</style>\n",
              "<table border=\"1\" class=\"dataframe\">\n",
              "  <thead>\n",
              "    <tr style=\"text-align: right;\">\n",
              "      <th></th>\n",
              "      <th>DishFlavorTags</th>\n",
              "    </tr>\n",
              "    <tr>\n",
              "      <th>dish</th>\n",
              "      <th></th>\n",
              "    </tr>\n",
              "  </thead>\n",
              "  <tbody>\n",
              "    <tr>\n",
              "      <th>3 Bean Israeli Couscous Salad</th>\n",
              "      <td>[bitter3, umami3, sour5, sour4, sour2, salty2,...</td>\n",
              "    </tr>\n",
              "    <tr>\n",
              "      <th>AROMATIC RICE</th>\n",
              "      <td>[bland/neutral, spicy5, sweet2, bitter1, sour1...</td>\n",
              "    </tr>\n",
              "    <tr>\n",
              "      <th>Acar</th>\n",
              "      <td>[sweet3, salty1, sour5, sour4, sour2, nan]</td>\n",
              "    </tr>\n",
              "  </tbody>\n",
              "</table>\n",
              "</div>"
            ],
            "text/plain": [
              "                                                                  DishFlavorTags\n",
              "dish                                                                            \n",
              "3 Bean Israeli Couscous Salad  [bitter3, umami3, sour5, sour4, sour2, salty2,...\n",
              "AROMATIC RICE                  [bland/neutral, spicy5, sweet2, bitter1, sour1...\n",
              "Acar                                  [sweet3, salty1, sour5, sour4, sour2, nan]"
            ]
          },
          "metadata": {
            "tags": []
          },
          "execution_count": 55
        }
      ]
    },
    {
      "cell_type": "code",
      "metadata": {
        "id": "Y7yaMRxU5rlT"
      },
      "source": [
        "# Converting all numpy array values in the DishFlavorTags column to list\n",
        "French3['DishFlavorTags'] = French3['DishFlavorTags'].apply(lambda x: x.tolist())\n",
        "\n",
        "# Removing the null values from each list in DishFlavorTags column\n",
        "French3['DishFlavorTags'] = French3['DishFlavorTags'].apply(lambda x: [item for item in x if isinstance(item, str)])"
      ],
      "execution_count": 56,
      "outputs": []
    },
    {
      "cell_type": "code",
      "metadata": {
        "id": "nt4r7P4cov1P"
      },
      "source": [
        "# Taking just the first 20 rows of full dataframe for testing\n",
        "# firstdish = French3.iloc[0:20, :].copy()"
      ],
      "execution_count": 57,
      "outputs": []
    },
    {
      "cell_type": "code",
      "metadata": {
        "id": "75YTWcoTEGs5"
      },
      "source": [
        "# Main code for contrast mapping\n",
        "\n",
        "def MappingTheFlavors(flavorList):\n",
        "  FinalFlavList = []\n",
        "  \n",
        "  # print(flavorList, type(flavorList), len(flavorList))\n",
        "  # Adding all the flavors not present in the Flavor Mapping sheet to the final list of flavors as is and removing them from the above\n",
        "  for flavor in flavorList:\n",
        "    # print(flavor)\n",
        "    if flavor not in FlavorMapping.index.get_level_values(1):\n",
        "      FinalFlavList.append(flavor)\n",
        "  flavorList = [x for x in flavorList if x not in FinalFlavList]\n",
        "  # print(flavorList)\n",
        "\n",
        "\n",
        "  # Code for mapping the flavors\n",
        "  if (len(flavorList) == 1):\n",
        "    FinalFlavList.extend(flavorList.copy())\n",
        "    # print(FinalFlavList)\n",
        "  else:\n",
        "    for i in range (0, len(flavorList)):\n",
        "      index = 0\n",
        "      Sflavor = flavorList.pop(index)\n",
        "      for Tflavor in flavorList:\n",
        "        FinalFlavList.append(FlavorMapping.loc[FlavorMapping.index.get_level_values('source') == Sflavor, Tflavor].values[0]) #This is a time-consuming line\n",
        "      flavorList.append(Sflavor)\n",
        "\n",
        "  # print(FinalFlavList)\n",
        "  FinalFlavList = list(set(FinalFlavList))\n",
        "  # Removing nulls from the flavor list\n",
        "  FinalFlavList = [x for x in FinalFlavList if pd.isnull(x) == False]\n",
        "  return(FinalFlavList)"
      ],
      "execution_count": 58,
      "outputs": []
    },
    {
      "cell_type": "code",
      "metadata": {
        "id": "Are7m9xsUJV9"
      },
      "source": [
        "# Running above UDF on New Flavor Tags\n",
        "French3.loc[:,'NewFlavorTags'] = French3['DishFlavorTags'].apply(lambda x: MappingTheFlavors(x))"
      ],
      "execution_count": 59,
      "outputs": []
    },
    {
      "cell_type": "code",
      "metadata": {
        "id": "QAMVQ4mx_0Vz"
      },
      "source": [
        " # Removing same flavors of same intensity from the same dish flavor tags. Eg- if both sweet1 and sweet2 are present in the same tag, only sweet2 will ke kept\n",
        "\n",
        "def split(items):\n",
        "    biggest=dict()\n",
        "    newlist = []\n",
        "    for i in items:\n",
        "        string = i[:-1]\n",
        "        try:\n",
        "          number = int(i[-1])\n",
        "          if string in biggest:\n",
        "              if biggest[string]<number:\n",
        "                biggest[string]=number\n",
        "          else:\n",
        "              biggest[string]=number\n",
        "        except:\n",
        "          newlist.append(i)\n",
        "            \n",
        "    mynewlist= list([k+str(v) for k,v in biggest.items()])\n",
        "    mynewlist.extend(newlist.copy())\n",
        "\n",
        "    # Replacing the flavor names\n",
        "    replacements = {'sour2':'crisp','sour4':'acidic','sour5':'vinegary','umami4':'meaty','umami5':'gamey'}\n",
        "    mynewlist = [replacements.get(x, x) for x in mynewlist]\n",
        "    return(mynewlist)"
      ],
      "execution_count": 60,
      "outputs": []
    },
    {
      "cell_type": "code",
      "metadata": {
        "id": "iUtiCtDSgEhA"
      },
      "source": [
        "# firstdish.loc[:,'NewNewFlavorTags'] = firstdish['NewFlavorTags'].apply(lambda x: split(x))\n",
        "French3.loc[:,'Contrast_Flavor_Tag'] = French3['NewFlavorTags'].apply(lambda x: split(x))"
      ],
      "execution_count": 61,
      "outputs": []
    },
    {
      "cell_type": "code",
      "metadata": {
        "id": "kqCEN8kwgEEj",
        "colab": {
          "base_uri": "https://localhost:8080/",
          "height": 235
        },
        "outputId": "151cdec6-705c-4b34-dd8d-6e66e5b0fd26"
      },
      "source": [
        "# Dropping extra columns\n",
        "French3.drop(['DishFlavorTags','NewFlavorTags'], axis='columns', inplace=True)\n",
        "French3.head()"
      ],
      "execution_count": 62,
      "outputs": [
        {
          "output_type": "execute_result",
          "data": {
            "text/html": [
              "<div>\n",
              "<style scoped>\n",
              "    .dataframe tbody tr th:only-of-type {\n",
              "        vertical-align: middle;\n",
              "    }\n",
              "\n",
              "    .dataframe tbody tr th {\n",
              "        vertical-align: top;\n",
              "    }\n",
              "\n",
              "    .dataframe thead th {\n",
              "        text-align: right;\n",
              "    }\n",
              "</style>\n",
              "<table border=\"1\" class=\"dataframe\">\n",
              "  <thead>\n",
              "    <tr style=\"text-align: right;\">\n",
              "      <th></th>\n",
              "      <th>Contrast_Flavor_Tag</th>\n",
              "    </tr>\n",
              "    <tr>\n",
              "      <th>dish</th>\n",
              "      <th></th>\n",
              "    </tr>\n",
              "  </thead>\n",
              "  <tbody>\n",
              "    <tr>\n",
              "      <th>3 Bean Israeli Couscous Salad</th>\n",
              "      <td>[salty2, nutty1, bitter3, sweet&amp;spicy2, tart4,...</td>\n",
              "    </tr>\n",
              "    <tr>\n",
              "      <th>AROMATIC RICE</th>\n",
              "      <td>[spicy5, bittersweet1, sour1, bitter1, sweet2]</td>\n",
              "    </tr>\n",
              "    <tr>\n",
              "      <th>Acar</th>\n",
              "      <td>[tangy3, vinegary, sweet3, salty1, tart4, swee...</td>\n",
              "    </tr>\n",
              "    <tr>\n",
              "      <th>Achcharu</th>\n",
              "      <td>[vinegary, fruity3, nutty3, sweet6, salty5, sp...</td>\n",
              "    </tr>\n",
              "    <tr>\n",
              "      <th>Acorn Squash Bhaji with Panch Phoron</th>\n",
              "      <td>[tangy3, vinegary, sweet3, spicy5, nutty1, bit...</td>\n",
              "    </tr>\n",
              "  </tbody>\n",
              "</table>\n",
              "</div>"
            ],
            "text/plain": [
              "                                                                    Contrast_Flavor_Tag\n",
              "dish                                                                                   \n",
              "3 Bean Israeli Couscous Salad         [salty2, nutty1, bitter3, sweet&spicy2, tart4,...\n",
              "AROMATIC RICE                            [spicy5, bittersweet1, sour1, bitter1, sweet2]\n",
              "Acar                                  [tangy3, vinegary, sweet3, salty1, tart4, swee...\n",
              "Achcharu                              [vinegary, fruity3, nutty3, sweet6, salty5, sp...\n",
              "Acorn Squash Bhaji with Panch Phoron  [tangy3, vinegary, sweet3, spicy5, nutty1, bit..."
            ]
          },
          "metadata": {
            "tags": []
          },
          "execution_count": 62
        }
      ]
    },
    {
      "cell_type": "code",
      "metadata": {
        "id": "ypLM075_0xex"
      },
      "source": [
        "# Explosing column of lists to have each list element in a different row\n",
        "ContrastMapped = French3.explode('Contrast_Flavor_Tag')"
      ],
      "execution_count": 63,
      "outputs": []
    },
    {
      "cell_type": "code",
      "metadata": {
        "colab": {
          "base_uri": "https://localhost:8080/",
          "height": 235
        },
        "id": "AmujYwh_VtaA",
        "outputId": "f81a0b23-6673-4f79-cfd7-a55c01716c0e"
      },
      "source": [
        "ContrastMapped.head()"
      ],
      "execution_count": 64,
      "outputs": [
        {
          "output_type": "execute_result",
          "data": {
            "text/html": [
              "<div>\n",
              "<style scoped>\n",
              "    .dataframe tbody tr th:only-of-type {\n",
              "        vertical-align: middle;\n",
              "    }\n",
              "\n",
              "    .dataframe tbody tr th {\n",
              "        vertical-align: top;\n",
              "    }\n",
              "\n",
              "    .dataframe thead th {\n",
              "        text-align: right;\n",
              "    }\n",
              "</style>\n",
              "<table border=\"1\" class=\"dataframe\">\n",
              "  <thead>\n",
              "    <tr style=\"text-align: right;\">\n",
              "      <th></th>\n",
              "      <th>Contrast_Flavor_Tag</th>\n",
              "    </tr>\n",
              "    <tr>\n",
              "      <th>dish</th>\n",
              "      <th></th>\n",
              "    </tr>\n",
              "  </thead>\n",
              "  <tbody>\n",
              "    <tr>\n",
              "      <th>3 Bean Israeli Couscous Salad</th>\n",
              "      <td>salty2</td>\n",
              "    </tr>\n",
              "    <tr>\n",
              "      <th>3 Bean Israeli Couscous Salad</th>\n",
              "      <td>nutty1</td>\n",
              "    </tr>\n",
              "    <tr>\n",
              "      <th>3 Bean Israeli Couscous Salad</th>\n",
              "      <td>bitter3</td>\n",
              "    </tr>\n",
              "    <tr>\n",
              "      <th>3 Bean Israeli Couscous Salad</th>\n",
              "      <td>sweet&amp;spicy2</td>\n",
              "    </tr>\n",
              "    <tr>\n",
              "      <th>3 Bean Israeli Couscous Salad</th>\n",
              "      <td>tart4</td>\n",
              "    </tr>\n",
              "  </tbody>\n",
              "</table>\n",
              "</div>"
            ],
            "text/plain": [
              "                              Contrast_Flavor_Tag\n",
              "dish                                             \n",
              "3 Bean Israeli Couscous Salad              salty2\n",
              "3 Bean Israeli Couscous Salad              nutty1\n",
              "3 Bean Israeli Couscous Salad             bitter3\n",
              "3 Bean Israeli Couscous Salad        sweet&spicy2\n",
              "3 Bean Israeli Couscous Salad               tart4"
            ]
          },
          "metadata": {
            "tags": []
          },
          "execution_count": 64
        }
      ]
    },
    {
      "cell_type": "code",
      "metadata": {
        "id": "X_XCW4y74i1V"
      },
      "source": [
        "# Merging the original dataframe and the above dataframe\n",
        "FinalDF = French.merge(ContrastMapped, left_on='dish', right_on='dish', how='left')\n",
        "FinalDF.reset_index(inplace=True)"
      ],
      "execution_count": 65,
      "outputs": []
    },
    {
      "cell_type": "code",
      "metadata": {
        "id": "eKaPp_AZZQRB"
      },
      "source": [
        "# Assigning the same values as FinalDF tags columns to another column d, and then replace all duplicate values with null\n",
        "FinalDF.loc[FinalDF.assign(d=FinalDF.Aroma_Tag).duplicated(['Aroma_Tag','dish', 'd']), 'Aroma_Tag'] = np.nan\n",
        "FinalDF.loc[FinalDF.assign(d=FinalDF.Taste_Tag).duplicated(['Taste_Tag','dish', 'd']), 'Taste_Tag'] = np.nan\n",
        "FinalDF.loc[FinalDF.assign(d=FinalDF.Mouthfeel_Tag).duplicated(['Mouthfeel_Tag','dish', 'd']), 'Mouthfeel_Tag'] = np.nan\n",
        "FinalDF.loc[FinalDF.assign(d=FinalDF.Contrast_Flavor_Tag).duplicated(['Contrast_Flavor_Tag','dish', 'd']), 'Contrast_Flavor_Tag'] = np.nan\n",
        "\n",
        "# Replacing score column with nulls where tag column is null\n",
        "FinalDF.loc[(pd.isnull(FinalDF.Aroma_Tag)), 'Aroma_score'] = np.nan\n",
        "FinalDF.loc[(pd.isnull(FinalDF.Mouthfeel_Tag)), 'Mouthfeel_score'] = np.nan\n",
        "FinalDF.loc[(pd.isnull(FinalDF.Taste_Tag)), 'Taste_score'] = np.nan\n",
        "\n",
        "FinalDF.loc[FinalDF.assign(d=FinalDF.Color_Tag).duplicated(['Color_Tag','dish', 'd']), 'Color_Tag'] = np.nan\n",
        "FinalDF.loc[FinalDF.assign(d=FinalDF.Texture_Tag).duplicated(['Texture_Tag','dish', 'd']), 'Texture_Tag'] = np.nan\n",
        "\n",
        "# Setting index, removing nulls and resetting index\n",
        "FinalDF.set_index('dish', inplace=True)\n",
        "FinalDF.dropna(how='all', inplace=True)\n",
        "FinalDF.reset_index(inplace=True)"
      ],
      "execution_count": 66,
      "outputs": []
    },
    {
      "cell_type": "code",
      "metadata": {
        "id": "OxliGCtVUp7e"
      },
      "source": [
        "# Making two columns out of one column-one for actual tag and another for tag score.\n",
        "\n",
        "FinalDF['Contrast_Flavor_Score'] = FinalDF.Contrast_Flavor_Tag.str.extract(r'([\\d]+)',expand=False)\n",
        "FinalDF['Contrast_Flavor_Tag'] = FinalDF.Contrast_Flavor_Tag.str.replace('\\d+', '')\n",
        "FinalDF.loc[FinalDF['Contrast_Flavor_Tag'].isin(CrispList), 'Contrast_Flavor_Score'] = 3"
      ],
      "execution_count": 67,
      "outputs": []
    },
    {
      "cell_type": "code",
      "metadata": {
        "id": "84QpEbI04ix0"
      },
      "source": [
        "# Saving to drive\n",
        "FinalDF.to_csv(r'/content/drive/MyDrive/Contrast_Mapped.csv', index=False)"
      ],
      "execution_count": 68,
      "outputs": []
    }
  ]
}